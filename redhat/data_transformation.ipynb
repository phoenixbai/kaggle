{
 "cells": [
  {
   "cell_type": "code",
   "execution_count": 40,
   "metadata": {},
   "outputs": [],
   "source": [
    "import pandas as pd\n",
    "import re\n",
    "import csv\n",
    "from IPython.display import clear_output\n",
    "\n",
    "names = ['people_id','activity_id','date','activity_category','char_1','char_2','char_3','char_4','char_5','char_6','char_7','char_8','char_9','char_10','outcome']\n",
    "pl_names = ['people_id','char_1','group_1','char_2','date','char_3','char_4','char_5','char_6','char_7','char_8','char_9','char_10','char_11','char_12','char_13','char_14','char_15','char_16','char_17','char_18','char_19','char_20','char_21','char_22','char_23','char_24','char_25','char_26','char_27','char_28','char_29','char_30','char_31','char_32','char_33','char_34','char_35','char_36','char_37','char_38']"
   ]
  },
  {
   "cell_type": "code",
   "execution_count": 41,
   "metadata": {},
   "outputs": [],
   "source": [
    "def convert2int(v):\n",
    "    return '1' if 'True' == v else '0' if 'False' == v else None if not v else re.search('\\d+$', v).group(0)"
   ]
  },
  {
   "cell_type": "code",
   "execution_count": 42,
   "metadata": {},
   "outputs": [],
   "source": [
    "act_train = pd.read_csv('act_train.csv', names=names, converters={x: convert2int for x in names[3:-1]}, dtype=str)\n",
    "act_test = pd.read_csv('act_test.csv', names=names[:-1], converters={x: convert2int for x in names[3:-1]}, dtype=str)\n",
    "people = pd.read_csv('people.csv', names=pl_names, converters={x: convert2int for x in pl_names[1:4]+pl_names[5:-1]}, dtype=str)\n",
    "# print act_train.head()\n",
    "# print act_test.head()\n",
    "# print people.head()\n",
    "# clear_output()"
   ]
  },
  {
   "cell_type": "code",
   "execution_count": 43,
   "metadata": {},
   "outputs": [
    {
     "data": {
      "text/html": [
       "<div style=\"max-height:1000px;max-width:1500px;overflow:auto;\">\n",
       "<table border=\"1\" class=\"dataframe\">\n",
       "  <thead>\n",
       "    <tr style=\"text-align: right;\">\n",
       "      <th></th>\n",
       "      <th>people_id</th>\n",
       "      <th>ppl_act_cnt</th>\n",
       "    </tr>\n",
       "  </thead>\n",
       "  <tbody>\n",
       "    <tr>\n",
       "      <th>0</th>\n",
       "      <td> ppl_294918</td>\n",
       "      <td> 55103</td>\n",
       "    </tr>\n",
       "    <tr>\n",
       "      <th>1</th>\n",
       "      <td> ppl_370270</td>\n",
       "      <td> 53668</td>\n",
       "    </tr>\n",
       "    <tr>\n",
       "      <th>2</th>\n",
       "      <td> ppl_105739</td>\n",
       "      <td> 45936</td>\n",
       "    </tr>\n",
       "    <tr>\n",
       "      <th>3</th>\n",
       "      <td>  ppl_54699</td>\n",
       "      <td> 23969</td>\n",
       "    </tr>\n",
       "    <tr>\n",
       "      <th>4</th>\n",
       "      <td>  ppl_64887</td>\n",
       "      <td>  7052</td>\n",
       "    </tr>\n",
       "  </tbody>\n",
       "</table>\n",
       "</div>"
      ]
     },
     "output_type": "execute_result",
     "metadata": {}
    }
   ],
   "source": [
    "#value count the appearance of people in activity table \n",
    "cnt = act_train.people_id.value_counts()\n",
    "people_act_cnt = pd.DataFrame({'people_id': cnt.index, 'ppl_act_cnt': cnt.values})\n",
    "people_act_cnt.head()"
   ]
  },
  {
   "cell_type": "code",
   "execution_count": 44,
   "metadata": {},
   "outputs": [
    {
     "data": {
      "text/html": [
       "<div style=\"max-height:1000px;max-width:1500px;overflow:auto;\">\n",
       "<table border=\"1\" class=\"dataframe\">\n",
       "  <thead>\n",
       "    <tr style=\"text-align: right;\">\n",
       "      <th></th>\n",
       "      <th>people_id</th>\n",
       "      <th>char_1</th>\n",
       "      <th>group_1</th>\n",
       "      <th>char_2</th>\n",
       "      <th>date</th>\n",
       "      <th>char_3</th>\n",
       "      <th>char_4</th>\n",
       "      <th>char_5</th>\n",
       "      <th>char_6</th>\n",
       "      <th>char_7</th>\n",
       "      <th>...</th>\n",
       "      <th>char_30</th>\n",
       "      <th>char_31</th>\n",
       "      <th>char_32</th>\n",
       "      <th>char_33</th>\n",
       "      <th>char_34</th>\n",
       "      <th>char_35</th>\n",
       "      <th>char_36</th>\n",
       "      <th>char_37</th>\n",
       "      <th>char_38</th>\n",
       "      <th>ppl_act_cnt</th>\n",
       "    </tr>\n",
       "  </thead>\n",
       "  <tbody>\n",
       "    <tr>\n",
       "      <th>189113</th>\n",
       "      <td> ppl_99987</td>\n",
       "      <td> 1</td>\n",
       "      <td>  8600</td>\n",
       "      <td> 1</td>\n",
       "      <td> 2022-04-02</td>\n",
       "      <td>  4</td>\n",
       "      <td>  6</td>\n",
       "      <td> 4</td>\n",
       "      <td> 3</td>\n",
       "      <td> 11</td>\n",
       "      <td>...</td>\n",
       "      <td> 0</td>\n",
       "      <td> 0</td>\n",
       "      <td> 1</td>\n",
       "      <td> 0</td>\n",
       "      <td> 1</td>\n",
       "      <td> 0</td>\n",
       "      <td> 1</td>\n",
       "      <td> 1</td>\n",
       "      <td> 89</td>\n",
       "      <td>  1</td>\n",
       "    </tr>\n",
       "    <tr>\n",
       "      <th>189114</th>\n",
       "      <td>  ppl_9999</td>\n",
       "      <td> 2</td>\n",
       "      <td> 17304</td>\n",
       "      <td> 2</td>\n",
       "      <td> 2023-02-23</td>\n",
       "      <td>  6</td>\n",
       "      <td>  2</td>\n",
       "      <td> 8</td>\n",
       "      <td> 3</td>\n",
       "      <td> 11</td>\n",
       "      <td>...</td>\n",
       "      <td> 0</td>\n",
       "      <td> 0</td>\n",
       "      <td> 0</td>\n",
       "      <td> 0</td>\n",
       "      <td> 0</td>\n",
       "      <td> 0</td>\n",
       "      <td> 0</td>\n",
       "      <td> 0</td>\n",
       "      <td>  0</td>\n",
       "      <td>  2</td>\n",
       "    </tr>\n",
       "    <tr>\n",
       "      <th>189115</th>\n",
       "      <td> ppl_99992</td>\n",
       "      <td> 2</td>\n",
       "      <td> 17304</td>\n",
       "      <td> 2</td>\n",
       "      <td> 2020-06-25</td>\n",
       "      <td>  5</td>\n",
       "      <td>  5</td>\n",
       "      <td> 3</td>\n",
       "      <td> 4</td>\n",
       "      <td> 16</td>\n",
       "      <td>...</td>\n",
       "      <td> 0</td>\n",
       "      <td> 0</td>\n",
       "      <td> 0</td>\n",
       "      <td> 0</td>\n",
       "      <td> 0</td>\n",
       "      <td> 0</td>\n",
       "      <td> 0</td>\n",
       "      <td> 0</td>\n",
       "      <td>  0</td>\n",
       "      <td>  2</td>\n",
       "    </tr>\n",
       "    <tr>\n",
       "      <th>189116</th>\n",
       "      <td> ppl_99994</td>\n",
       "      <td> 2</td>\n",
       "      <td> 17764</td>\n",
       "      <td> 3</td>\n",
       "      <td> 2023-01-06</td>\n",
       "      <td>  2</td>\n",
       "      <td>  7</td>\n",
       "      <td> 2</td>\n",
       "      <td> 1</td>\n",
       "      <td>  2</td>\n",
       "      <td>...</td>\n",
       "      <td> 1</td>\n",
       "      <td> 1</td>\n",
       "      <td> 1</td>\n",
       "      <td> 0</td>\n",
       "      <td> 1</td>\n",
       "      <td> 1</td>\n",
       "      <td> 1</td>\n",
       "      <td> 1</td>\n",
       "      <td> 95</td>\n",
       "      <td> 46</td>\n",
       "    </tr>\n",
       "    <tr>\n",
       "      <th>189117</th>\n",
       "      <td> ppl_99997</td>\n",
       "      <td> 2</td>\n",
       "      <td> 17304</td>\n",
       "      <td> 2</td>\n",
       "      <td> 2022-03-12</td>\n",
       "      <td> 40</td>\n",
       "      <td> 25</td>\n",
       "      <td> 9</td>\n",
       "      <td> 3</td>\n",
       "      <td>  8</td>\n",
       "      <td>...</td>\n",
       "      <td> 0</td>\n",
       "      <td> 0</td>\n",
       "      <td> 0</td>\n",
       "      <td> 0</td>\n",
       "      <td> 0</td>\n",
       "      <td> 0</td>\n",
       "      <td> 0</td>\n",
       "      <td> 0</td>\n",
       "      <td> 36</td>\n",
       "      <td>  1</td>\n",
       "    </tr>\n",
       "  </tbody>\n",
       "</table>\n",
       "<p>5 rows × 42 columns</p>\n",
       "</div>"
      ]
     },
     "output_type": "execute_result",
     "metadata": {}
    }
   ],
   "source": [
    "#add above people activity count as a new feature add to train/test data\n",
    "people = pd.merge(people, people_act_cnt, how='outer')\n",
    "people.fillna(1, inplace=True)\n",
    "people.tail()"
   ]
  },
  {
   "cell_type": "code",
   "execution_count": 45,
   "metadata": {},
   "outputs": [
    {
     "name": "stdout",
     "output_type": "stream",
     "text": [
      "train_data_svm shape: (2197291,52)\n",
      "train_data_svm columns:  outcome,activity_category,char_1_x,char_2_x,char_3_x,char_4_x,char_5_x,char_6_x,char_7_x,char_8_x,char_9_x,char_10_x,char_1_y,group_1,char_2_y,char_3_y,char_4_y,char_5_y,char_6_y,char_7_y,char_8_y,char_9_y,char_10_y,char_11,char_12,char_13,char_14,char_15,char_16,char_17,char_18,char_19,char_20,char_21,char_22,char_23,char_24,char_25,char_26,char_27,char_28,char_29,char_30,char_31,char_32,char_33,char_34,char_35,char_36,char_37,char_38,ppl_act_cnt\n"
     ]
    }
   ],
   "source": [
    "#train dataset\n",
    "train_data = pd.merge(act_train, people, on=['people_id'])\n",
    "label = train_data['outcome']\n",
    "# removing id columns, date columns and outcome\n",
    "feats = pd.concat([train_data.ix[:, 3:14], train_data.ix[:, 15:18], train_data.ix[:, 19:]], axis=1)\n",
    "train_data_svm = pd.concat([label, feats], axis=1) \n",
    "feat_size = feats.shape[1]\n",
    "print 'train_data_svm shape: (%d,%d)' % train_data_svm.shape\n",
    "print 'train_data_svm columns:  %s' % ','.join(train_data_svm.columns.values)"
   ]
  },
  {
   "cell_type": "code",
   "execution_count": 46,
   "metadata": {},
   "outputs": [],
   "source": [
    "# write svm format train data to file\n",
    "with open('train_v2_svm.txt', 'w') as f:\n",
    "    writer = csv.writer(f, delimiter='\\t')\n",
    "    rows = [' '.join([str(x[0])] + [str(i)+':'+str(x[i+1]) for i in range(feat_size) if x[i+1]]) for x in train_data_svm.values]\n",
    "    for r in rows:\n",
    "        writer.writerow([r.strip()])"
   ]
  },
  {
   "cell_type": "markdown",
   "metadata": {},
   "source": [
    "### Below is for test dataset"
   ]
  },
  {
   "cell_type": "code",
   "execution_count": 47,
   "metadata": {},
   "outputs": [
    {
     "name": "stdout",
     "output_type": "stream",
     "text": [
      "test data colum_names: activity_id,activity_category,char_1_x,char_2_x,char_3_x,char_4_x,char_5_x,char_6_x,char_7_x,char_8_x,char_9_x,char_10_x,char_1_y,group_1,char_2_y,char_3_y,char_4_y,char_5_y,char_6_y,char_7_y,char_8_y,char_9_y,char_10_y,char_11,char_12,char_13,char_14,char_15,char_16,char_17,char_18,char_19,char_20,char_21,char_22,char_23,char_24,char_25,char_26,char_27,char_28,char_29,char_30,char_31,char_32,char_33,char_34,char_35,char_36,char_37,char_38,ppl_act_cnt\n",
      "test data feature size: 51\n"
     ]
    }
   ],
   "source": [
    "#test dataset\n",
    "test_data = pd.merge(act_test, people, on=['people_id'])\n",
    "test_feats = pd.concat([test_data.ix[:, 1], test_data.ix[:, 3:17], test_data.ix[:, 18:]], axis=1)\n",
    "print 'test data colum_names: %s' % ','.join(test_feats.columns.values)\n",
    "test_feat_size = test_feats.shape[1]-1\n",
    "print 'test data feature size: %d' % test_feat_size"
   ]
  },
  {
   "cell_type": "code",
   "execution_count": 48,
   "metadata": {},
   "outputs": [],
   "source": [
    "# write svm format test data to file: feature data vs. activity id list\n",
    "with open('test_v2_svm.txt', 'w') as ft, open('test_v2_svm_map.txt', 'w') as fm:\n",
    "    twriter = csv.writer(ft, delimiter='\\t')\n",
    "    mwriter = csv.writer(fm, delimiter='\\t')\n",
    "    ids = test_feats.ix[:, 0].values\n",
    "    idx = test_feats.index.values\n",
    "\n",
    "    rows = [(str(x) + ',' + z, str(x) + ' ' + ' '.join([str(i)+':'+str(y[i]) for i in range(test_feat_size) if y[i]]))\n",
    "            for x, z, y in zip(idx, ids, (test_feats.ix[:, 1:]).values)]\n",
    "\n",
    "    for (x, y) in rows:\n",
    "        twriter.writerow([y.strip()])\n",
    "        mwriter.writerow([x.strip()])"
   ]
  },
  {
   "cell_type": "code",
   "execution_count": null,
   "metadata": {},
   "outputs": [],
   "source": [
    ""
   ]
  }
 ],
 "metadata": {
  "kernelspec": {
   "display_name": "Python 2",
   "language": "python",
   "name": "python2"
  },
  "language_info": {
   "codemirror_mode": {
    "name": "ipython",
    "version": 2.0
   },
   "file_extension": ".py",
   "mimetype": "text/x-python",
   "name": "python",
   "nbconvert_exporter": "python",
   "pygments_lexer": "ipython2",
   "version": "2.7.11"
  }
 },
 "nbformat": 4,
 "nbformat_minor": 0
}